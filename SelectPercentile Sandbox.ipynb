{
 "cells": [
  {
   "cell_type": "code",
   "execution_count": 21,
   "metadata": {
    "collapsed": false
   },
   "outputs": [],
   "source": [
    "import numpy as np\n",
    "\n",
    "feature_importances = np.load(open(\"gbc_feature_importances.npy\", \"rb\"))\n",
    "X = np.load(open(\"X_all.npy\", \"rb\"))[:, feature_importances > 0]\n",
    "y = np.load(open(\"y_all.npy\", \"rb\"))\n",
    "X_test = np.load(open(\"X_test_all.npy\", \"rb\"))[:, feature_importances > 0]\n",
    "feature_importances = feature_importances[feature_importances > 0]"
   ]
  },
  {
   "cell_type": "code",
   "execution_count": 27,
   "metadata": {
    "collapsed": false
   },
   "outputs": [
    {
     "data": {
      "text/plain": [
       "(76020, 111)"
      ]
     },
     "execution_count": 27,
     "metadata": {},
     "output_type": "execute_result"
    }
   ],
   "source": [
    "from sklearn.feature_selection import SelectPercentile\n",
    "\n",
    "def feature_scores(importances):\n",
    "    def score(X, y):\n",
    "        score = importances\n",
    "        pvalues = np.ones(len(importances)) * 0.01 # fake this\n",
    "        return score, pvalues\n",
    "    return score\n",
    "\n",
    "selector = SelectPercentile(feature_scores(feature_importances), percentile=100)\n",
    "selector.fit(X, y)\n",
    "X_new = selector.transform(X_reduced)\n",
    "X_test_new = selector.transform(X_test_reduced)\n",
    "\n",
    "X_new.shape"
   ]
  },
  {
   "cell_type": "code",
   "execution_count": null,
   "metadata": {
    "collapsed": true
   },
   "outputs": [],
   "source": []
  }
 ],
 "metadata": {
  "kernelspec": {
   "display_name": "Python 3",
   "language": "python",
   "name": "python3"
  },
  "language_info": {
   "codemirror_mode": {
    "name": "ipython",
    "version": 3
   },
   "file_extension": ".py",
   "mimetype": "text/x-python",
   "name": "python",
   "nbconvert_exporter": "python",
   "pygments_lexer": "ipython3",
   "version": "3.5.1"
  }
 },
 "nbformat": 4,
 "nbformat_minor": 0
}
