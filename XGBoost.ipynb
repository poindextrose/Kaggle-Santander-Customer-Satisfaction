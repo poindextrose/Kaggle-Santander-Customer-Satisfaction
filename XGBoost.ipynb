{
 "cells": [
  {
   "cell_type": "code",
   "execution_count": 3,
   "metadata": {
    "collapsed": false
   },
   "outputs": [
    {
     "name": "stdout",
     "output_type": "stream",
     "text": [
      "[CV] no parameters to be set .........................................\n",
      "[CV] ................................ no parameters to be set -   8.9s\n",
      "[CV] no parameters to be set .........................................\n",
      "[CV] ................................ no parameters to be set -   9.0s\n",
      "[CV] no parameters to be set .........................................\n",
      "[CV] ................................ no parameters to be set -   9.1s\n",
      "[CV] no parameters to be set .........................................\n",
      "[CV] ................................ no parameters to be set -   8.8s\n",
      "[CV] no parameters to be set .........................................\n",
      "[CV] ................................ no parameters to be set -   9.1s\n",
      "[CV] no parameters to be set .........................................\n",
      "[CV] ................................ no parameters to be set -   9.0s\n",
      "CPU times: user 5min 14s, sys: 5.23 s, total: 5min 19s\n",
      "Wall time: 54 s\n"
     ]
    },
    {
     "name": "stderr",
     "output_type": "stream",
     "text": [
      "[Parallel(n_jobs=1)]: Done   6 out of   6 | elapsed:   54.0s finished\n"
     ]
    }
   ],
   "source": [
    "import xgboost.sklearn as xgb\n",
    "import numpy as np\n",
    "from sklearn.cross_validation import cross_val_score\n",
    "import warnings\n",
    "warnings.simplefilter('ignore', DeprecationWarning)\n",
    "\n",
    "X = np.load(open(\"X_all.npy\", \"rb\"))\n",
    "y = np.load(open(\"y_all.npy\", \"rb\"))\n",
    "\n",
    "# clf = xgb.XGBClassifier()\n",
    "# %time clf.fit(X, y)\n",
    "\n",
    "%time scores = cross_val_score(xgb.XGBClassifier(), X, y, 'roc_auc', cv=6, n_jobs=1, verbose=2)"
   ]
  },
  {
   "cell_type": "code",
   "execution_count": 4,
   "metadata": {
    "collapsed": false
   },
   "outputs": [
    {
     "data": {
      "text/plain": [
       "array([ 0.82251657,  0.81875833,  0.81307358,  0.82157691,  0.84262524,\n",
       "        0.82187917])"
      ]
     },
     "execution_count": 4,
     "metadata": {},
     "output_type": "execute_result"
    }
   ],
   "source": [
    "scores"
   ]
  },
  {
   "cell_type": "code",
   "execution_count": 5,
   "metadata": {
    "collapsed": false
   },
   "outputs": [
    {
     "data": {
      "text/plain": [
       "0.82340496759801596"
      ]
     },
     "execution_count": 5,
     "metadata": {},
     "output_type": "execute_result"
    }
   ],
   "source": [
    "np.mean(scores)"
   ]
  },
  {
   "cell_type": "code",
   "execution_count": 6,
   "metadata": {
    "collapsed": true
   },
   "outputs": [],
   "source": [
    "xgb.XGBClassifier?"
   ]
  },
  {
   "cell_type": "code",
   "execution_count": 9,
   "metadata": {
    "collapsed": false
   },
   "outputs": [
    {
     "data": {
      "text/plain": [
       "25.272606382978722"
      ]
     },
     "execution_count": 9,
     "metadata": {},
     "output_type": "execute_result"
    }
   ],
   "source": [
    "len(X)/sum(y)"
   ]
  },
  {
   "cell_type": "code",
   "execution_count": 8,
   "metadata": {
    "collapsed": false
   },
   "outputs": [
    {
     "data": {
      "text/plain": [
       "3008"
      ]
     },
     "execution_count": 8,
     "metadata": {},
     "output_type": "execute_result"
    }
   ],
   "source": [
    "sum(y)"
   ]
  },
  {
   "cell_type": "code",
   "execution_count": null,
   "metadata": {
    "collapsed": true
   },
   "outputs": [],
   "source": []
  }
 ],
 "metadata": {
  "kernelspec": {
   "display_name": "Python 3",
   "language": "python",
   "name": "python3"
  },
  "language_info": {
   "codemirror_mode": {
    "name": "ipython",
    "version": 3
   },
   "file_extension": ".py",
   "mimetype": "text/x-python",
   "name": "python",
   "nbconvert_exporter": "python",
   "pygments_lexer": "ipython3",
   "version": "3.5.1"
  }
 },
 "nbformat": 4,
 "nbformat_minor": 0
}
